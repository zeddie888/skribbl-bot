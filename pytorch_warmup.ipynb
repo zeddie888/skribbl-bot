{
  "nbformat": 4,
  "nbformat_minor": 0,
  "metadata": {
    "colab": {
      "name": "pytorch_warmup.ipynb",
      "provenance": [],
      "include_colab_link": true
    },
    "kernelspec": {
      "name": "python3",
      "display_name": "Python 3"
    },
    "language_info": {
      "name": "python"
    },
    "accelerator": "GPU"
  },
  "cells": [
    {
      "cell_type": "markdown",
      "metadata": {
        "id": "view-in-github",
        "colab_type": "text"
      },
      "source": [
        "<a href=\"https://colab.research.google.com/github/zeddie888/skribbl-bot/blob/main/pytorch_warmup.ipynb\" target=\"_parent\"><img src=\"https://colab.research.google.com/assets/colab-badge.svg\" alt=\"Open In Colab\"/></a>"
      ]
    },
    {
      "cell_type": "markdown",
      "metadata": {
        "id": "6QA1D6eIszX_"
      },
      "source": [
        "This notebook will help you get familiar with Google Colab, and walk you through modifying a simple model with PyTorch and training it on the [MNIST dataset](http://yann.lecun.com/exdb/mnist/)\n",
        "\n",
        "To enable GPU:\n",
        "\n",
        "Edit -> Notebook settings -> Hardware accelerator -> GPU -> Save\n",
        "\n",
        "If you see an error about enabling third-party cookies check any ad-blockers you may be running and [enable third-party cookies on your browser](https://research.google.com/colaboratory/faq.html#third-party-cookies)\n",
        "\n",
        "\n",
        "\n"
      ]
    },
    {
      "cell_type": "code",
      "metadata": {
        "id": "oINm7sOOdpaL"
      },
      "source": [
        "# Download and install pytorch\n",
        "# If you see \"CUDA enabled: false\" make sure you set the hardware accelerator for the notebook to GPU\n",
        "from os import path\n",
        "\n",
        "!pip install torch torchvision\n",
        "  \n",
        "import torch\n",
        "print('Version', torch.__version__)\n",
        "print('CUDA enabled:', torch.cuda.is_available())"
      ],
      "execution_count": null,
      "outputs": []
    },
    {
      "cell_type": "markdown",
      "metadata": {
        "id": "LnhVUth9X1Cp"
      },
      "source": [
        "The following section implements a simple model along with the train and test functions. Even with a single convolutional layer, two fully connected layers, and a tanh activation function you will see the accuracy is pretty high. Experiment with modifying different parts of the model to see how high you can get the accuracy to be. Specifically look into: \n",
        "\n",
        "*   Adding more [convolutional](https://pytorch.org/docs/stable/nn.html#convolution-layers) and [linear](https://pytorch.org/docs/stable/nn.html#linear-layers) layers\n",
        "*   Adding a [pooling](https://pytorch.org/docs/stable/nn.html#convolution-layers) layer after the convolutional layer\n",
        "*   Changing the [activation](https://pytorch.org/docs/stable/nn.html#non-linear-activations-weighted-sum-nonlinearity) layers in the forward pass\n",
        "*   Adding [dropout](https://pytorch.org/docs/stable/nn.html#dropout-layers) layers\n"
      ]
    },
    {
      "cell_type": "code",
      "metadata": {
        "id": "0oKKR9EsoK9G"
      },
      "source": [
        "import torch.nn as nn\n",
        "import torch.nn.functional as F\n",
        "import torch.optim as optim\n",
        "from torchvision import datasets, transforms\n",
        "\n",
        "# Create a PyTorch module to implement the model\n",
        "class MNISTNet(nn.Module):\n",
        "    def __init__(self):\n",
        "        super(MNISTNet, self).__init__()\n",
        "        \n",
        "        # Model layers\n",
        "        # Keep in mind the MNIST dataset provides grayscale images (1 channel) of 28 x 28 dimensions\n",
        "        self.conv1 = nn.Conv2d(1, 3, 3)\n",
        "        self.fc1 = nn.Linear(26 * 26 * 3, 512)\n",
        "        self.fc2 = nn.Linear(512, 10)\n",
        "        \n",
        "\n",
        "    def forward(self, x):\n",
        "        # Forward pass, this defines how the data actually passes through your network\n",
        "        x = torch.tanh(self.conv1(x))\n",
        "        x = x.view(-1, 26 * 26 * 3)\n",
        "        x = torch.tanh(self.fc1(x))\n",
        "        x = self.fc2(x)\n",
        "        return x\n",
        "\n",
        "    def loss(self, prediction, label, reduction='mean'):\n",
        "        return F.cross_entropy(prediction, label, reduction = reduction)\n",
        "\n",
        "\n",
        "def train(model, device, train_loader, optimizer, epoch, log_interval):\n",
        "    model.train()\n",
        "    for batch_idx, (data, label) in enumerate(train_loader):\n",
        "        data, label = data.to(device), label.to(device)\n",
        "        optimizer.zero_grad()\n",
        "        \n",
        "        output = model(data)\n",
        "        loss = model.loss(output, label, 'mean')\n",
        "        loss.backward()\n",
        "        \n",
        "        optimizer.step()\n",
        "        if batch_idx % log_interval == 0:\n",
        "            print('Train Epoch: {} [{}/{} ({:.0f}%)]\\tLoss: {:.6f}'.format(\n",
        "                epoch, batch_idx * len(data), len(train_loader.dataset),\n",
        "                100. * batch_idx / len(train_loader), loss.item()))\n",
        "\n",
        "def test(model, device, test_loader):\n",
        "    model.eval()\n",
        "    test_loss = 0\n",
        "    correct = 0\n",
        "    with torch.no_grad():\n",
        "        for data, label in test_loader:\n",
        "            data, label = data.to(device), label.to(device)\n",
        "            output = model(data)\n",
        "            test_loss += model.loss(output, label).item()\n",
        "            pred = output.max(1, keepdim=True)[1]\n",
        "            correct += pred.eq(label.view_as(pred)).sum().item()\n",
        "\n",
        "    test_loss /= len(test_loader.dataset)\n",
        "    print('\\nTest set: Average loss: {:.4f}, Accuracy: {}/{} ({:.0f}%)\\n'.format(\n",
        "        test_loss, correct, len(test_loader.dataset),\n",
        "        100. * correct / len(test_loader.dataset)))"
      ],
      "execution_count": null,
      "outputs": []
    },
    {
      "cell_type": "markdown",
      "metadata": {
        "id": "_RGqJ4L9mDjK"
      },
      "source": [
        "On top of modifying your model, also try changing these hyperparameters to set how quickly the model will learn and how much data it should train on."
      ]
    },
    {
      "cell_type": "code",
      "metadata": {
        "id": "pNf3AoHVvKXI"
      },
      "source": [
        "BATCH_SIZE = 256\n",
        "TEST_BATCH_SIZE = 1000\n",
        "EPOCHS = 5\n",
        "\n",
        "LEARNING_RATE = 0.01\n",
        "MOMENTUM = 0.5\n",
        "\n",
        "USE_CUDA = True\n",
        "SEED = 0 # Sets a seed for generating random numbers\n",
        "LOG_INTERVAL = 100 # How often training results should be printed"
      ],
      "execution_count": null,
      "outputs": []
    },
    {
      "cell_type": "code",
      "metadata": {
        "id": "50zDbqjXu_Qq"
      },
      "source": [
        "use_cuda = USE_CUDA and torch.cuda.is_available()\n",
        "\n",
        "torch.manual_seed(SEED)\n",
        "\n",
        "device = torch.device(\"cuda\" if use_cuda else \"cpu\")\n",
        "print('Using device', device)\n",
        "import multiprocessing\n",
        "print('num cpus:', multiprocessing.cpu_count())\n",
        "\n",
        "kwargs = {'num_workers': multiprocessing.cpu_count(),\n",
        "          'pin_memory': True} if use_cuda else {}\n",
        "train_loader = torch.utils.data.DataLoader(\n",
        "    datasets.MNIST('../data', train=True, download=True,\n",
        "                   transform=transforms.Compose([\n",
        "                       transforms.ToTensor(),\n",
        "                       transforms.Normalize((0.1307,), (0.3081,))\n",
        "                   ])),\n",
        "    batch_size=BATCH_SIZE, shuffle=True, **kwargs)\n",
        "test_loader = torch.utils.data.DataLoader(\n",
        "    datasets.MNIST('../data', train=False, transform=transforms.Compose([\n",
        "                       transforms.ToTensor(),\n",
        "                       transforms.Normalize((0.1307,), (0.3081,))\n",
        "                   ])),\n",
        "    batch_size=TEST_BATCH_SIZE, **kwargs)\n",
        "\n",
        "\n",
        "model = MNISTNet().to(device)\n",
        "optimizer = optim.SGD(model.parameters(), lr=LEARNING_RATE, momentum=MOMENTUM)\n",
        "\n",
        "try:\n",
        "    for epoch in range(0, EPOCHS + 1):\n",
        "        train(model, device, train_loader, optimizer, epoch, LOG_INTERVAL)\n",
        "        test(model, device, test_loader)\n",
        "except KeyboardInterrupt as ke:\n",
        "    print('Interrupted')\n",
        "except:\n",
        "    import traceback\n",
        "    traceback.print_exc()\n",
        "        "
      ],
      "execution_count": null,
      "outputs": []
    },
    {
      "cell_type": "markdown",
      "metadata": {
        "id": "VeZZX1lKlIXy"
      },
      "source": [
        "Run the following code block to grab a random image from the test dataset and see the prediction your trained model makes. Try running the code block multiple times to see what unique images your model might make mistakes on."
      ]
    },
    {
      "cell_type": "code",
      "metadata": {
        "colab": {
          "base_uri": "https://localhost:8080/",
          "height": 134
        },
        "id": "9G7nPAgTV7s0",
        "outputId": "5c8d49d0-a92d-4aef-97c7-2ee5de205c2a"
      },
      "source": [
        "import random\n",
        "\n",
        "test_image = train_loader.dataset[random.randrange(2000)][0]\n",
        "display(transforms.ToPILImage()(transforms.Resize(100)(test_image)))\n",
        "\n",
        "with torch.no_grad():\n",
        "  model.eval()\n",
        "  out = model((test_image[None,...]).to(device))\n",
        "  pred = out.max(1, keepdim=True)[1]\n",
        "  print(\"Prediction: \" + str(pred[0][0].item()))"
      ],
      "execution_count": null,
      "outputs": [
        {
          "output_type": "display_data",
          "data": {
            "image/png": "[encoded data removed]",
            "text/plain": [
              "<PIL.Image.Image image mode=L size=100x100 at 0x7F077847DAD0>"
            ]
          },
          "metadata": {
            "tags": []
          }
        },
        {
          "output_type": "stream",
          "text": [
            "Prediction: 0\n"
          ],
          "name": "stdout"
        }
      ]
    }
  ]
}